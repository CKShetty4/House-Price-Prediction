{
 "cells": [
  {
   "cell_type": "markdown",
   "id": "4a9040b2-9307-4985-8ef5-9183b84e0a45",
   "metadata": {},
   "source": [
    "# House Price Prediction Regression Project"
   ]
  },
  {
   "cell_type": "markdown",
   "id": "e2cef794-eab4-4aa4-8a27-ade5295631ae",
   "metadata": {},
   "source": [
    "## Project Goal"
   ]
  },
  {
   "cell_type": "raw",
   "id": "6892aabe-0934-4aeb-bdb9-fb1fb1e98d51",
   "metadata": {},
   "source": [
    "Predict the price of a house by its features. If you are a buyer or seller of the house but you don’t know the exact price of the house, so supervised machine learning regression algorithms can help you to predict the price of the house just providing features of the target house."
   ]
  },
  {
   "cell_type": "markdown",
   "id": "8295490a-e7c6-44a4-baff-ee5a70e178dd",
   "metadata": {},
   "source": [
    "## Load Modules/Libraries"
   ]
  },
  {
   "cell_type": "code",
   "execution_count": null,
   "id": "9ce04bd5-091b-4a27-bdd2-480d247395e1",
   "metadata": {},
   "outputs": [],
   "source": []
  }
 ],
 "metadata": {
  "kernelspec": {
   "display_name": "Python 3 (ipykernel)",
   "language": "python",
   "name": "python3"
  },
  "language_info": {
   "codemirror_mode": {
    "name": "ipython",
    "version": 3
   },
   "file_extension": ".py",
   "mimetype": "text/x-python",
   "name": "python",
   "nbconvert_exporter": "python",
   "pygments_lexer": "ipython3",
   "version": "3.12.7"
  }
 },
 "nbformat": 4,
 "nbformat_minor": 5
}
